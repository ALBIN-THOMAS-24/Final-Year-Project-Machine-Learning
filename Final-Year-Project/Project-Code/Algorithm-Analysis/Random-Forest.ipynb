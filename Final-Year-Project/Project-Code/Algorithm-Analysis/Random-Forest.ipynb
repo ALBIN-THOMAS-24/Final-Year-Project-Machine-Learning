{
 "cells": [
  {
   "cell_type": "markdown",
   "metadata": {},
   "source": [
    "# Random Forest"
   ]
  },
  {
   "cell_type": "markdown",
   "metadata": {},
   "source": [
    "**1. Science Dataset : 4.5 lakh data**"
   ]
  },
  {
   "cell_type": "code",
   "execution_count": 9,
   "metadata": {},
   "outputs": [
    {
     "name": "stdout",
     "output_type": "stream",
     "text": [
      "Scaled Data\n",
      "[[-1.01022323e+00 -6.45237302e-01  1.11300196e+00 ...  1.11706852e+00\n",
      "  -1.48495673e+00  6.17447285e-01]\n",
      " [-5.17847197e-01  3.13543283e+00 -7.81765445e-01 ...  4.55098220e-01\n",
      "  -1.44202551e+00 -3.53916847e-01]\n",
      " [ 1.33023274e+00 -4.48486098e-01 -5.59395959e-01 ... -2.19445277e-01\n",
      "   1.04505909e+00  1.42245191e+00]\n",
      " ...\n",
      " [ 2.99809168e-02  1.63595665e-01  6.00358124e-01 ...  6.96918721e-01\n",
      "  -1.15012005e+00  5.91665972e-01]\n",
      " [ 8.01600072e-02  4.00059078e-01  1.33510530e+00 ... -6.37413053e-01\n",
      "   1.97773150e-03  5.83187598e-01]\n",
      " [-1.76164381e+00  7.60466658e-02 -2.21542851e-01 ... -1.21197124e+00\n",
      "  -1.27333845e+00 -2.70203358e-01]]\n",
      "\n",
      "\n",
      "(450000, 22)\n",
      "(450000,)\n",
      "\n",
      "\n",
      "Random Forest\n",
      "Random_forest Accuracy => 91.25 %\n",
      "\n",
      "\n",
      "Confusion Matrix\n",
      "[[26685  1377  2069]\n",
      " [  851 27462  1618]\n",
      " [  824  1136 27978]]\n",
      "\n",
      "\n",
      "Classification Report\n",
      "              precision    recall  f1-score   support\n",
      "\n",
      "           0       0.94      0.89      0.91     30131\n",
      "           1       0.92      0.92      0.92     29931\n",
      "           2       0.88      0.93      0.91     29938\n",
      "\n",
      "    accuracy                           0.91     90000\n",
      "   macro avg       0.91      0.91      0.91     90000\n",
      "weighted avg       0.91      0.91      0.91     90000\n",
      "\n",
      "\n",
      "\n",
      "\n"
     ]
    },
    {
     "data": {
      "image/png": "[encoded data removed]",
      "text/plain": [
       "<Figure size 432x288 with 2 Axes>"
      ]
     },
     "metadata": {
      "needs_background": "light"
     },
     "output_type": "display_data"
    }
   ],
   "source": [
    "import pandas as pd\n",
    "import numpy as np\n",
    "data = pd.read_csv(\"C:\\\\machine\\\\science-dataset.csv\")\n",
    "data.head(10) #DISPLAY TOP 10 ROWS\n",
    "\n",
    "\n",
    "#Data Scaling\n",
    "from sklearn import preprocessing\n",
    "from sklearn.model_selection import train_test_split\n",
    "X=data.drop(['CAREER'], axis = 1).values \n",
    "print(\"Scaled Data\")\n",
    "Standardisation = preprocessing.StandardScaler()#Standard Scaling\n",
    "AFTER_SCALE= Standardisation.fit_transform(X) \n",
    "print(AFTER_SCALE)\n",
    "print(\"\\n\")\n",
    "X=AFTER_SCALE #Input Features\n",
    "y = data['CAREER'] #Output Label\n",
    "print(X.shape)\n",
    "print(y.shape)\n",
    "\n",
    "#Split the Data into training and testing set \n",
    "#80% data used for training and 20% data used for testing\n",
    "X_train, X_test, y_train, y_test = train_test_split(X, y, test_size=0.2,random_state=0)\n",
    "print(\"\\n\")\n",
    "\n",
    "\n",
    "\n",
    "\n",
    "print(\"Random Forest\")\n",
    "from sklearn.ensemble import RandomForestClassifier\n",
    "#Model Evaluation\n",
    "import sklearn.metrics as metrics #Finding the accuracy of the model\n",
    "from sklearn.metrics import classification_report,confusion_matrix #classification Report  and Confusion matrix\n",
    "import matplotlib as plt\n",
    "random_forest=RandomForestClassifier()\n",
    "random_forest.fit(X_train, y_train)\n",
    "y_pred = random_forest.predict(X_test) #Predict\n",
    "\n",
    "#Model Evaluation\n",
    "print(\"Random_forest Accuracy => \"+str(metrics.accuracy_score(y_test, y_pred)*100)+str(\" %\"))#Accuracy\n",
    "print(\"\\n\")\n",
    "print(\"Confusion Matrix\")\n",
    "from sklearn.metrics import plot_confusion_matrix\n",
    "disp = plot_confusion_matrix(random_forest, X_test, y_test) #Confusion Matrix\n",
    "print(disp.confusion_matrix)\n",
    "print(\"\\n\")\n",
    "print(\"Classification Report\")\n",
    "print(classification_report(y_test,y_pred)) #Classification Report\n",
    "print(\"\\n\\n\")\n",
    "\n"
   ]
  },
  {
   "cell_type": "markdown",
   "metadata": {},
   "source": [
    "**2. Commerce Dataset : 2 lakh data**"
   ]
  },
  {
   "cell_type": "code",
   "execution_count": 10,
   "metadata": {},
   "outputs": [
    {
     "name": "stdout",
     "output_type": "stream",
     "text": [
      "Scaled Data\n",
      "[[ 0.24568831 -0.84811566  0.59238466 ... -0.74003098  0.84156985\n",
      "  -1.97034714]\n",
      " [-1.17232281  0.03364377  0.43613436 ... -1.01396808  0.88089232\n",
      "  -0.78525331]\n",
      " [-0.04151851  0.28240994 -0.82889404 ...  0.56637192  0.84322125\n",
      "   0.15886304]\n",
      " ...\n",
      " [-0.29430557  0.54732491  1.45868918 ... -0.18934601 -0.09286142\n",
      "  -1.29003794]\n",
      " [-0.19140339  0.17657008  1.24056875 ...  0.47350013 -0.43188206\n",
      "  -1.85895264]\n",
      " [-0.35300072  1.51364061  0.28373126 ... -0.75587931  1.64742374\n",
      "  -1.16689615]]\n",
      "\n",
      "\n",
      "(200000, 22)\n",
      "(200000,)\n",
      "\n",
      "\n",
      "Random Forest\n",
      "Random_forest Accuracy => 96.50999999999999 %\n",
      "\n",
      "\n",
      "Confusion Matrix\n",
      "[[13074   124   100]\n",
      " [   79 13096   263]\n",
      " [  620   210 12434]]\n",
      "\n",
      "\n",
      "Classification Report\n",
      "              precision    recall  f1-score   support\n",
      "\n",
      "           0       0.95      0.98      0.97     13298\n",
      "           1       0.98      0.97      0.97     13438\n",
      "           2       0.97      0.94      0.95     13264\n",
      "\n",
      "    accuracy                           0.97     40000\n",
      "   macro avg       0.97      0.97      0.96     40000\n",
      "weighted avg       0.97      0.97      0.97     40000\n",
      "\n",
      "\n",
      "\n",
      "\n"
     ]
    },
    {
     "data": {
      "image/png": "[encoded data removed]",
      "text/plain": [
       "<Figure size 432x288 with 2 Axes>"
      ]
     },
     "metadata": {
      "needs_background": "light"
     },
     "output_type": "display_data"
    }
   ],
   "source": [
    "import pandas as pd\n",
    "import numpy as np\n",
    "data = pd.read_csv(\"C:\\\\machine\\\\commerce-dataset.csv\")\n",
    "data.head(10) #DISPLAY TOP 10 ROWS\n",
    "\n",
    "\n",
    "#Data Scaling\n",
    "from sklearn import preprocessing\n",
    "from sklearn.model_selection import train_test_split\n",
    "X=data.drop(['CAREER'], axis = 1).values \n",
    "print(\"Scaled Data\")\n",
    "Standardisation = preprocessing.StandardScaler()#Standard Scaling\n",
    "AFTER_SCALE= Standardisation.fit_transform(X) \n",
    "print(AFTER_SCALE)\n",
    "print(\"\\n\")\n",
    "X=AFTER_SCALE #Input Features\n",
    "y = data['CAREER'] #Output Label\n",
    "print(X.shape)\n",
    "print(y.shape)\n",
    "\n",
    "#Split the Data into training and testing set \n",
    "#80% data used for training and 20% data used for testing\n",
    "X_train, X_test, y_train, y_test = train_test_split(X, y, test_size=0.2,random_state=0)\n",
    "print(\"\\n\")\n",
    "\n",
    "\n",
    "\n",
    "\n",
    "print(\"Random Forest\")\n",
    "from sklearn.ensemble import RandomForestClassifier\n",
    "#Model Evaluation\n",
    "import sklearn.metrics as metrics #Finding the accuracy of the model\n",
    "from sklearn.metrics import classification_report,confusion_matrix #classification Report  and Confusion matrix\n",
    "import matplotlib as plt\n",
    "random_forest=RandomForestClassifier()\n",
    "random_forest.fit(X_train, y_train)\n",
    "y_pred = random_forest.predict(X_test) #Predict\n",
    "\n",
    "#Model Evaluation\n",
    "print(\"Random_forest Accuracy => \"+str(metrics.accuracy_score(y_test, y_pred)*100)+str(\" %\"))#Accuracy\n",
    "print(\"\\n\")\n",
    "print(\"Confusion Matrix\")\n",
    "from sklearn.metrics import plot_confusion_matrix\n",
    "disp = plot_confusion_matrix(random_forest, X_test, y_test) #Confusion Matrix\n",
    "print(disp.confusion_matrix)\n",
    "print(\"\\n\")\n",
    "print(\"Classification Report\")\n",
    "print(classification_report(y_test,y_pred)) #Classification Report\n",
    "print(\"\\n\\n\")\n",
    "\n"
   ]
  },
  {
   "cell_type": "markdown",
   "metadata": {},
   "source": [
    "**3. Humanities Dataset: 1.5 lakh data**"
   ]
  },
  {
   "cell_type": "code",
   "execution_count": 11,
   "metadata": {},
   "outputs": [
    {
     "name": "stdout",
     "output_type": "stream",
     "text": [
      "Scaled Data\n",
      "[[ 1.65387287  1.29905166 -1.35037826 ... -1.53645037 -0.59739747\n",
      "   1.43158727]\n",
      " [ 0.79354715  2.19748708  0.24791042 ... -1.505026   -0.07371361\n",
      "   1.25453011]\n",
      " [ 1.37972835  1.69692931  0.85797214 ... -0.22954282  0.57205402\n",
      "   1.10842098]\n",
      " ...\n",
      " [ 1.23653922 -1.60844464 -1.50510814 ... -0.68939418  0.00466291\n",
      "  -1.06779219]\n",
      " [ 1.75261127  1.08815958 -0.06227623 ...  0.86284206 -0.17064843\n",
      "   1.33240845]\n",
      " [ 0.08564096 -0.92033662  0.91763489 ...  0.62457878 -0.495897\n",
      "   0.29817691]]\n",
      "\n",
      "\n",
      "(150000, 22)\n",
      "(150000,)\n",
      "\n",
      "\n",
      "Random Forest\n",
      "Random_forest Accuracy => 90.67333333333333 %\n",
      "\n",
      "\n",
      "Confusion Matrix\n",
      "[[8938  174  848]\n",
      " [ 280 9141  568]\n",
      " [ 345  583 9123]]\n",
      "\n",
      "\n",
      "Classification Report\n",
      "              precision    recall  f1-score   support\n",
      "\n",
      "           0       0.93      0.90      0.92      9960\n",
      "           1       0.92      0.92      0.92      9989\n",
      "           2       0.87      0.91      0.89     10051\n",
      "\n",
      "    accuracy                           0.91     30000\n",
      "   macro avg       0.91      0.91      0.91     30000\n",
      "weighted avg       0.91      0.91      0.91     30000\n",
      "\n",
      "\n",
      "\n",
      "\n"
     ]
    },
    {
     "data": {
      "image/png": "[encoded data removed]",
      "text/plain": [
       "<Figure size 432x288 with 2 Axes>"
      ]
     },
     "metadata": {
      "needs_background": "light"
     },
     "output_type": "display_data"
    }
   ],
   "source": [
    "import pandas as pd\n",
    "import numpy as np\n",
    "data = pd.read_csv(\"C:\\\\machine\\\\humanities-dataset.csv\")\n",
    "data.head(10) #DISPLAY TOP 10 ROWS\n",
    "\n",
    "\n",
    "#Data Scaling\n",
    "from sklearn import preprocessing\n",
    "from sklearn.model_selection import train_test_split\n",
    "X=data.drop(['CAREER'], axis = 1).values \n",
    "print(\"Scaled Data\")\n",
    "Standardisation = preprocessing.StandardScaler()#Standard Scaling\n",
    "AFTER_SCALE= Standardisation.fit_transform(X) \n",
    "print(AFTER_SCALE)\n",
    "print(\"\\n\")\n",
    "X=AFTER_SCALE #Input Features\n",
    "y = data['CAREER'] #Output Label\n",
    "print(X.shape)\n",
    "print(y.shape)\n",
    "\n",
    "#Split the Data into training and testing set \n",
    "#80% data used for training and 20% data used for testing\n",
    "X_train, X_test, y_train, y_test = train_test_split(X, y, test_size=0.2,random_state=0)\n",
    "print(\"\\n\")\n",
    "\n",
    "\n",
    "\n",
    "\n",
    "print(\"Random Forest\")\n",
    "from sklearn.ensemble import RandomForestClassifier\n",
    "#Model Evaluation\n",
    "import sklearn.metrics as metrics #Finding the accuracy of the model\n",
    "from sklearn.metrics import classification_report,confusion_matrix #classification Report  and Confusion matrix\n",
    "import matplotlib as plt\n",
    "random_forest=RandomForestClassifier()\n",
    "random_forest.fit(X_train, y_train)\n",
    "y_pred = random_forest.predict(X_test) #Predict\n",
    "\n",
    "#Model Evaluation\n",
    "print(\"Random_forest Accuracy => \"+str(metrics.accuracy_score(y_test, y_pred)*100)+str(\" %\"))#Accuracy\n",
    "print(\"\\n\")\n",
    "print(\"Confusion Matrix\")\n",
    "from sklearn.metrics import plot_confusion_matrix\n",
    "disp = plot_confusion_matrix(random_forest, X_test, y_test) #Confusion Matrix\n",
    "print(disp.confusion_matrix)\n",
    "print(\"\\n\")\n",
    "print(\"Classification Report\")\n",
    "print(classification_report(y_test,y_pred)) #Classification Report\n",
    "print(\"\\n\\n\")\n",
    "\n"
   ]
  },
  {
   "cell_type": "code",
   "execution_count": null,
   "metadata": {},
   "outputs": [],
   "source": []
  }
 ],
 "metadata": {
  "kernelspec": {
   "display_name": "Python 3",
   "language": "python",
   "name": "python3"
  },
  "language_info": {
   "codemirror_mode": {
    "name": "ipython",
    "version": 3
   },
   "file_extension": ".py",
   "mimetype": "text/x-python",
   "name": "python",
   "nbconvert_exporter": "python",
   "pygments_lexer": "ipython3",
   "version": "3.8.3"
  }
 },
 "nbformat": 4,
 "nbformat_minor": 4
}
