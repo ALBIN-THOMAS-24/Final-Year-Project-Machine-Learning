{
 "cells": [
  {
   "cell_type": "markdown",
   "metadata": {},
   "source": [
    "# Cosine Similarity"
   ]
  },
  {
   "cell_type": "code",
   "execution_count": 6,
   "metadata": {
    "scrolled": false
   },
   "outputs": [
    {
     "name": "stdout",
     "output_type": "stream",
     "text": [
      "Entered text:\n",
      "I love coding\n",
      "\n",
      "\n",
      "CSE = 0.09225312080288851\n",
      "ECE = 0.08653046168066414\n",
      "EEE = 0.11022169969095856\n",
      "Mech = 0.014344382763731171\n",
      "Civil = 0.0\n",
      "B.Sc = 0.0\n",
      "MBBS = 0.0\n",
      "B.Sc Nursing = 0.0\n"
     ]
    }
   ],
   "source": [
    "from sklearn.metrics.pairwise import cosine_similarity\n",
    "from sklearn.feature_extraction.text import CountVectorizer\n",
    "\n",
    "\n",
    "print(\"Entered text:\")\n",
    "a=input()\n",
    "\n",
    "\n",
    "def similarity(a,text):\n",
    "    \n",
    "    #convert to lowercase\n",
    "    a=a.lower()\n",
    "    text=text.lower()\n",
    "   \n",
    "    X=a\n",
    "    Y=text\n",
    "    \n",
    "    #cosine similarity\n",
    "    text=[X,Y]\n",
    "    cv=CountVectorizer()\n",
    "    count_matrix=cv.fit_transform(text)\n",
    "    sim_score=cosine_similarity(count_matrix)\n",
    "    \n",
    "    #return similarity score\n",
    "    return sim_score[0][1]\n",
    "\n",
    "print(\"\\n\")\n",
    "#Read files cse,ece,eee,civi,bsc,mbbs,bsc_nursing\n",
    "with open('C://machine//cosine//CSE.txt', encoding=\"utf8\") as file:\n",
    "    cse= file.read()\n",
    "    print(\"CSE =\",similarity(a,cse))\n",
    "with open('C://machine//cosine//ECE.txt', encoding=\"utf8\") as file:\n",
    "    ece= file.read()\n",
    "    print(\"ECE =\",similarity(a,ece))\n",
    "with open('C://machine//cosine//EEE.txt', encoding=\"utf8\") as file:\n",
    "    eee= file.read()\n",
    "    print(\"EEE =\",similarity(a,eee))\n",
    "with open('C://machine//cosine//Mech.txt', encoding=\"utf8\") as file:\n",
    "    mech= file.read()\n",
    "    print(\"Mech =\",similarity(a,mech))\n",
    "with open('C://machine//cosine//Civil.txt', encoding=\"utf8\") as file:\n",
    "    civil= file.read()\n",
    "    print(\"Civil =\",similarity(a,civil))\n",
    "with open('C://machine//cosine//B.SC.txt', encoding=\"utf8\") as file:\n",
    "    bsc= file.read()\n",
    "    print(\"B.Sc =\",similarity(a,bsc))\n",
    "    \n",
    "with open('C://machine//cosine//MBBS.txt', encoding=\"utf8\") as file:\n",
    "    mbbs= file.read()\n",
    "    print(\"MBBS =\",similarity(a,mbbs))\n",
    "\n",
    "with open('C://machine//cosine//Nursing.txt', encoding=\"utf8\") as file:\n",
    "    nurse= file.read()\n",
    "    print(\"B.Sc Nursing =\",similarity(a,nurse))\n",
    "\n"
   ]
  }
 ],
 "metadata": {
  "kernelspec": {
   "display_name": "Python 3",
   "language": "python",
   "name": "python3"
  },
  "language_info": {
   "codemirror_mode": {
    "name": "ipython",
    "version": 3
   },
   "file_extension": ".py",
   "mimetype": "text/x-python",
   "name": "python",
   "nbconvert_exporter": "python",
   "pygments_lexer": "ipython3",
   "version": "3.8.3"
  }
 },
 "nbformat": 4,
 "nbformat_minor": 4
}
