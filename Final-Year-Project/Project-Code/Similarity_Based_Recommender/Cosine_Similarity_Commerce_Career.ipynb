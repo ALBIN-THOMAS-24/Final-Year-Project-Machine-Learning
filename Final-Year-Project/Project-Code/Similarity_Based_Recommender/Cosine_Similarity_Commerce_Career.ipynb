{
  "nbformat": 4,
  "nbformat_minor": 0,
  "metadata": {
    "colab": {
      "name": "Commerce_Recommender.ipynb",
      "provenance": []
    },
    "kernelspec": {
      "name": "python3",
      "display_name": "Python 3"
    },
    "language_info": {
      "name": "python"
    }
  },
  "cells": [
    {
      "cell_type": "code",
      "metadata": {
        "id": "ji4MpAlwWJqc",
        "colab": {
          "base_uri": "https://localhost:8080/"
        },
        "outputId": "4364d582-3c00-43ba-bf39-85d91ef36cd6"
      },
      "source": [
        "from sklearn.metrics.pairwise import cosine_similarity\n",
        "from sklearn.feature_extraction.text import CountVectorizer\n",
        "from nltk.corpus import stopwords\n",
        "from nltk.tokenize import word_tokenize\n",
        "from nltk.stem.snowball import SnowballStemmer\n",
        "import nltk\n",
        "#nltk.download('punkt')\n",
        "#nltk.download('stopwords')\n",
        "\n",
        "#from google.colab import drive\n",
        "#drive.mount('/content/drive')\n",
        "print(\"Entered text:\")\n",
        "a=input()\n",
        "\n",
        "\n",
        "def similarity(a,text):\n",
        "    \n",
        "    #convert to lowercase\n",
        "    a=a.lower()\n",
        "   \n",
        "    #tokenize and remove stopwords\n",
        "    a= word_tokenize(a)\n",
        "    a= [word for word in a if not word in stopwords.words()]\n",
        "    a = (\" \").join(a)\n",
        "    \n",
        "    \n",
        "    #tokenize and remove stopwords\n",
        "    text=text.lower()\n",
        "    text= word_tokenize(text)\n",
        "    text= [word for word in text if not word in stopwords.words()]\n",
        "    text = (\" \").join(text)\n",
        "   \n",
        "\n",
        "    #Snow_ball stemming\n",
        "    snow_stemmer = SnowballStemmer(language='english')\n",
        "    a=snow_stemmer.stem(a)\n",
        "    text=snow_stemmer.stem(text)\n",
        "   \n",
        "    \n",
        "   \n",
        "    X=a #user_input\n",
        "    Y=text #Text File\n",
        "    \n",
        "    #cosine similarity\n",
        "    text=[X,Y]\n",
        "    cv=CountVectorizer()\n",
        "    count_matrix=cv.fit_transform(text)\n",
        "    sim_score=cosine_similarity(count_matrix)\n",
        "    \n",
        "    #return similarity score\n",
        "    return sim_score[0][1]\n",
        "\n",
        "print(\"\\n\")\n",
        "with open('/content/drive/MyDrive/Project files/Recomender/COMMERCE/STCS.txt', encoding=\"utf8\") as file:\n",
        "    stcs= file.read()\n",
        "print(\"BCom in STATISTICS=\",similarity(a,stcs))\n",
        "with open('/content/drive/MyDrive/Project files/Recomender/COMMERCE/TOTRM.txt', encoding=\"utf8\") as file:\n",
        "    totrm= file.read()\n",
        "print(\"BCom in TOURISM & TRAVEL MANAGEMENT =\",similarity(a,totrm))\n",
        "with open('/content/drive/MyDrive/Project files/Recomender/COMMERCE/BUAD.txt', encoding=\"utf8\") as file:\n",
        "    buad= file.read()\n",
        "print(\"BCom in BUSINESS & ADMINISTRATION =\",similarity(a,buad))\n",
        "with open('/content/drive/MyDrive/Project files/Recomender/COMMERCE/MAIF.txt', encoding=\"utf8\") as file:\n",
        "    maif= file.read()\n",
        "print(\"BCom in MANAGEMENT ACCOUNTING & INTERNATIONAL FINANCE =\",similarity(a,maif))\n",
        "with open('/content/drive/MyDrive/Project files/Recomender/COMMERCE/MARK.txt', encoding=\"utf8\") as file:\n",
        "    mark= file.read()\n",
        "print(\"BCom in MARKETING=\",similarity(a,mark))\n",
        "with open('/content/drive/MyDrive/Project files/Recomender/COMMERCE/BAFI.txt', encoding=\"utf8\") as file:\n",
        "    bafi= file.read()\n",
        "print(\"BCom in BANKING & FINANCE =\",similarity(a,bafi))\n",
        "with open('/content/drive/MyDrive/Project files/Recomender/COMMERCE/ACC.txt', encoding=\"utf8\") as file:\n",
        "    acc= file.read()\n",
        "print(\"BCom in ACCOUNTING =\",similarity(a,acc))\n",
        "with open('/content/drive/MyDrive/Project files/Recomender/COMMERCE/ACTA.txt', encoding=\"utf8\") as file:\n",
        "    acta= file.read()\n",
        "print(\"BCom in ACCOUNTING & TAXATION=\",similarity(a,acta))\n",
        "with open('/content/drive/MyDrive/Project files/Recomender/COMMERCE/APPE.txt', encoding=\"utf8\") as file:\n",
        "    appe= file.read()\n",
        "print(\"BCom in APPLIED ECONOMICS =\",similarity(a,appe))"
      ],
      "execution_count": 20,
      "outputs": [
        {
          "output_type": "stream",
          "text": [
            "Entered text:\n",
            "I am interested in banking and tourism\n",
            "\n",
            "\n",
            "BCom in STATISTICS= 0.0\n",
            "BCom in TOURISM & TRAVEL MANAGEMENT = 0.06375767130633384\n",
            "BCom in BUSINESS & ADMINISTRATION = 0.0\n",
            "BCom in MANAGEMENT ACCOUNTING & INTERNATIONAL FINANCE = 0.07106690545187015\n",
            "BCom in MARKETING= 0.13900960937138318\n",
            "BCom in BANKING & FINANCE = 0.0\n",
            "BCom in ACCOUNTING = 0.0\n",
            "BCom in ACCOUNTING & TAXATION= 0.10411584125907072\n",
            "BCom in APPLIED ECONOMICS = 0.0\n"
          ],
          "name": "stdout"
        }
      ]
    }
  ]
}
