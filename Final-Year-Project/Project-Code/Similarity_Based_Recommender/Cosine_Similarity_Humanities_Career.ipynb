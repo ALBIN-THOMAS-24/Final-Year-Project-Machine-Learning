{
  "nbformat": 4,
  "nbformat_minor": 0,
  "metadata": {
    "colab": {
      "name": "Humanities_Recommender.ipynb",
      "provenance": []
    },
    "kernelspec": {
      "name": "python3",
      "display_name": "Python 3"
    },
    "language_info": {
      "name": "python"
    }
  },
  "cells": [
    {
      "cell_type": "code",
      "metadata": {
        "id": "8ghb78X2kRTu",
        "colab": {
          "base_uri": "https://localhost:8080/"
        },
        "outputId": "5829294d-e0fa-48e4-eafe-b5d6e9db3e46"
      },
      "source": [
        "from sklearn.metrics.pairwise import cosine_similarity\n",
        "from sklearn.feature_extraction.text import CountVectorizer\n",
        "from nltk.corpus import stopwords\n",
        "from nltk.tokenize import word_tokenize\n",
        "from nltk.stem.snowball import SnowballStemmer\n",
        "from google.colab import drive\n",
        "import nltk\n",
        "#nltk.download('stopwords')\n",
        "#nltk.download('punkt')\n",
        "\n",
        "#drive.mount('/content/drive')\n",
        "print(\"Entered text:\")\n",
        "a=input()\n",
        "\n",
        "def similarity(a,text):\n",
        "    \n",
        "    #convert to lowercase\n",
        "    a=a.lower()\n",
        "   \n",
        "    #tokenize and remove stopwords\n",
        "    a= word_tokenize(a)\n",
        "    a= [word for word in a if not word in stopwords.words()]\n",
        "    a = (\" \").join(a)\n",
        "    \n",
        "    \n",
        "    #tokenize and remove stopwords\n",
        "    text=text.lower()\n",
        "    text= word_tokenize(text)\n",
        "    text= [word for word in text if not word in stopwords.words()]\n",
        "    text = (\" \").join(text)\n",
        "   \n",
        "\n",
        "    #Snow_ball stemming\n",
        "    snow_stemmer = SnowballStemmer(language='english')\n",
        "    a=snow_stemmer.stem(a)\n",
        "    text=snow_stemmer.stem(text)\n",
        "   \n",
        "    \n",
        "   \n",
        "    X=a #user_input\n",
        "    Y=text #Text File\n",
        "    \n",
        "    #cosine similarity\n",
        "    text=[X,Y]\n",
        "    cv=CountVectorizer()\n",
        "    count_matrix=cv.fit_transform(text)\n",
        "    sim_score=cosine_similarity(count_matrix)\n",
        "    \n",
        "    #return similarity score\n",
        "    return sim_score[0][1]\n",
        "\n",
        "print(\"\\n\")  \n",
        "with open('/content/drive/MyDrive/Project files/Recomender/HUMANITIES/BA.txt', encoding=\"utf8\") as file:\n",
        "    ba= file.read()\n",
        "print(\"Bachelor of Arts=\",similarity(a,ba))\n",
        "with open('/content/drive/MyDrive/Project files/Recomender/HUMANITIES/BFA.txt', encoding=\"utf8\") as file:\n",
        "    bfa= file.read()\n",
        "print(\"Bachelor of Fine Arts=\",similarity(a,bfa))\n",
        "with open('/content/drive/MyDrive/Project files/Recomender/HUMANITIES/BBA.txt', encoding=\"utf8\") as file:\n",
        "    bba= file.read()\n",
        "print(\"Bachelor of Business Administration=\",similarity(a,bba))\n",
        "with open('/content/drive/MyDrive/Project files/Recomender/HUMANITIES/BALLB.txt', encoding=\"utf8\") as file:\n",
        "    ballb= file.read()\n",
        "print(\"Integrated Law course(B.A + L.L.B.)=\",similarity(a,ballb))\n",
        "with open('/content/drive/MyDrive/Project files/Recomender/HUMANITIES/BJM.txt', encoding=\"utf8\") as file:\n",
        "    bjm= file.read()\n",
        "print(\"Bachelor of Journalism and Mass Communication=\",similarity(a,bjm))\n",
        "with open('/content/drive/MyDrive/Project files/Recomender/HUMANITIES/BFD.txt', encoding=\"utf8\") as file:\n",
        "    bfd= file.read()\n",
        "print(\"Bachelor of Fashion Design\",similarity(a,bfd))\n",
        "with open('/content/drive/MyDrive/Project files/Recomender/HUMANITIES/BHM.txt', encoding=\"utf8\") as file:\n",
        "    bhm= file.read()\n",
        "print(\"Bachelor of Hotel Management \",similarity(a,bhm))"
      ],
      "execution_count": 34,
      "outputs": [
        {
          "output_type": "stream",
          "text": [
            "Entered text:\n",
            "Interested in taxation,food and laws\n",
            "\n",
            "\n",
            "Bachelor of Arts= 0.024640709031819093\n",
            "Bachelor of Fine Arts= 0.0\n",
            "Bachelor of Business Administration= 0.0\n",
            "Integrated Law course(B.A + L.L.B.)= 0.041666666666666664\n",
            "Bachelor of Journalism and Mass Communication= 0.0\n",
            "Bachelor of Fashion Design 0.0\n",
            "Bachelor of Hotel Management  0.11233827907252847\n"
          ],
          "name": "stdout"
        }
      ]
    }
  ]
}