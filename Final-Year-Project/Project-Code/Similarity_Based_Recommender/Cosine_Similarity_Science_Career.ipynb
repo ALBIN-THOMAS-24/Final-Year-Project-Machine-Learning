{
 "cells": [
  {
   "cell_type": "markdown",
   "metadata": {},
   "source": [
    "# Cosine Similarity"
   ]
  },
  {
   "cell_type": "code",
   "execution_count": 2,
   "metadata": {
    "scrolled": false
   },
   "outputs": [
    {
     "name": "stdout",
     "output_type": "stream",
     "text": [
      "Entered text:\n",
      "Interested in coding as well as web development\n",
      "\n",
      "\n",
      "CSE = 0.16502739940140695\n",
      "ECE = 0.1547903955539246\n",
      "EEE = 0.1602010885179581\n",
      "Mech = 0.06415002990995841\n",
      "Civil = 0.008546696378833459\n",
      "B.Sc = 0.016844257473799775\n",
      "MBBS = 0.0\n",
      "B.Sc Nursing = 0.0\n",
      "B.Arch = 0.03244428422615251\n",
      "Automobile = 0.04160251471689219\n",
      "Aeronautical = 0.02714126471740779\n",
      "BioMedical= 0.015951580680567408\n",
      "Environment= 0.03401194406868886\n",
      "Chemical Engineering = 0.10082646033524353\n"
     ]
    }
   ],
   "source": [
    "from sklearn.metrics.pairwise import cosine_similarity\n",
    "from sklearn.feature_extraction.text import CountVectorizer\n",
    "\n",
    "\n",
    "print(\"Entered text:\")\n",
    "a=input()\n",
    "\n",
    "\n",
    "def similarity(a,text):\n",
    "    \n",
    "    #convert to lowercase\n",
    "    a=a.lower()\n",
    "    text=text.lower()\n",
    "   \n",
    "    X=a\n",
    "    Y=text\n",
    "    \n",
    "    #cosine similarity\n",
    "    text=[X,Y]\n",
    "    cv=CountVectorizer()\n",
    "    count_matrix=cv.fit_transform(text)\n",
    "    sim_score=cosine_similarity(count_matrix)\n",
    "    \n",
    "    #return similarity score\n",
    "    return sim_score[0][1]\n",
    "\n",
    "print(\"\\n\")\n",
    "#Read files cse,ece,eee,civi,bsc,mbbs,bsc_nursing\n",
    "with open('C://machine//science//CSE.txt', encoding=\"utf8\") as file:\n",
    "    cse= file.read()\n",
    "    print(\"CSE =\",similarity(a,cse))\n",
    "with open('C://machine//science//ECE.txt', encoding=\"utf8\") as file:\n",
    "    ece= file.read()\n",
    "    print(\"ECE =\",similarity(a,ece))\n",
    "with open('C://machine//science//EEE.txt', encoding=\"utf8\") as file:\n",
    "    eee= file.read()\n",
    "    print(\"EEE =\",similarity(a,eee))\n",
    "with open('C://machine//science//Mech.txt', encoding=\"utf8\") as file:\n",
    "    mech= file.read()\n",
    "    print(\"Mech =\",similarity(a,mech))\n",
    "with open('C://machine//science//Civil.txt', encoding=\"utf8\") as file:\n",
    "    civil= file.read()\n",
    "    print(\"Civil =\",similarity(a,civil))\n",
    "with open('C://machine//science//B.SC.txt', encoding=\"utf8\") as file:\n",
    "    bsc= file.read()\n",
    "    print(\"B.Sc =\",similarity(a,bsc))\n",
    "    \n",
    "with open('C://machine//science//MBBS.txt', encoding=\"utf8\") as file:\n",
    "    mbbs= file.read()\n",
    "    print(\"MBBS =\",similarity(a,mbbs))\n",
    "\n",
    "with open('C://machine//science//Nursing.txt', encoding=\"utf8\") as file:\n",
    "    nurse= file.read()\n",
    "    print(\"B.Sc Nursing =\",similarity(a,nurse))\n",
    "    \n",
    "with open('C://machine//science//Archit.txt', encoding=\"utf8\") as file:\n",
    "    arch= file.read()\n",
    "    print(\"B.Arch =\",similarity(a,arch))\n",
    "    \n",
    "with open('C://machine//science//Autom.txt', encoding=\"utf8\") as file:\n",
    "    automob= file.read()\n",
    "    print(\"Automobile =\",similarity(a,automob))\n",
    "    \n",
    "with open('C://machine//science//Aero.txt', encoding=\"utf8\") as file:\n",
    "    aero= file.read()\n",
    "    print(\"Aeronautical =\",similarity(a,aero))\n",
    "    \n",
    "with open('C://machine//science//BioMed.txt', encoding=\"utf8\") as file:\n",
    "    biomed= file.read()\n",
    "    print(\"BioMedical=\",similarity(a,biomed))\n",
    "\n",
    "with open('C://machine//science//Env.txt', encoding=\"utf8\") as file:\n",
    "    env= file.read()\n",
    "    print(\"Environment=\",similarity(a,env))\n",
    "with open('C://machine//science//Chemi.txt', encoding=\"utf8\") as file:\n",
    "    chemi= file.read()\n",
    "    print(\"Chemical Engineering =\",similarity(a,chemi))\n",
    "\n",
    "\n"
   ]
  },
  {
   "cell_type": "code",
   "execution_count": null,
   "metadata": {},
   "outputs": [],
   "source": []
  }
 ],
 "metadata": {
  "kernelspec": {
   "display_name": "Python 3",
   "language": "python",
   "name": "python3"
  },
  "language_info": {
   "codemirror_mode": {
    "name": "ipython",
    "version": 3
   },
   "file_extension": ".py",
   "mimetype": "text/x-python",
   "name": "python",
   "nbconvert_exporter": "python",
   "pygments_lexer": "ipython3",
   "version": "3.8.3"
  }
 },
 "nbformat": 4,
 "nbformat_minor": 4
}
